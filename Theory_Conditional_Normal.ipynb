{
 "cells": [
  {
   "cell_type": "markdown",
   "id": "5051dc04",
   "metadata": {},
   "source": [
    "# Conditional Normal (General Case)\n",
    "## Mean & Variance/MSE, Intercept & Coefficients \n",
    "\n",
    "Conditional mean and the conditional standard deviation of the (conditional) distribution of $Y_1,..,Y_m$ given $X_1,...,X_n$."
   ]
  },
  {
   "cell_type": "markdown",
   "id": "81c6da8f",
   "metadata": {},
   "source": [
    "$$\\begin{bmatrix}Y\\\\X\\end{bmatrix}\\sim N(\\begin{bmatrix}\\mu_Y\\\\\\mu_X\\end{bmatrix},\\begin{bmatrix}\\Sigma_{YY}&\\Sigma_{YX}\\\\\\Sigma_{XY}&\\Sigma_{YY}\\end{bmatrix})$$\n",
    "$$Y|X=x\\sim N(\\mu_{Y|X},\\Sigma_{Y|X})$$where\n",
    "$$\\mu_{Y|X}=\\mu_Y+\\Sigma_{YX}\\Sigma_{XX}^{-1}(x-\\mu_X)=\\Sigma_{YX}\\Sigma_{XX}^{-1}x+(\\mu_Y-\\Sigma_{YX}\\Sigma_{XX}^{-1}\\mu_X)$$\n",
    "$$\\Sigma_{Y|X}=\\Sigma_{YY}-\\Sigma_{YX}^{-1}\\Sigma_{XX}\\Sigma_{XY}$$\n",
    "conditional coefficient: $\\Sigma_{YX}\\Sigma_{XX}^{-1}$\n",
    "\n",
    "conditional intercept: $\\mu_Y-\\Sigma_{YX}\\Sigma_{XX}^{-1}\\mu_X$\n"
   ]
  },
  {
   "cell_type": "markdown",
   "id": "035fc5e2",
   "metadata": {},
   "source": [
    "Only need to modify the input session. Be careful with observed value x's dimension. If you have any questions/concerns/comments, feel free to contact me at cristal.wang111@gmail.com "
   ]
  },
  {
   "cell_type": "code",
   "execution_count": 1,
   "id": "e8f153ce",
   "metadata": {
    "scrolled": true
   },
   "outputs": [
    {
     "name": "stdout",
     "output_type": "stream",
     "text": [
      "Conditional Intercept: [-1.22580645  0.29032258] \n",
      "\n",
      "Conditional Coefficients: [[-0.03225806  0.58064516]\n",
      " [ 0.61290323 -0.03225806]] \n",
      "\n",
      "Conditional Variance / Residual MSE: [[3.70967742 1.51612903]\n",
      " [1.51612903 4.19354839]] \n",
      "\n",
      "Conditional Residual RootMSE(RMSE): [[1.92605229 1.23131192]\n",
      " [1.23131192 2.04781552]] \n",
      "\n",
      "Conditional Mean at x= [0 0] is: [-1.22580645  0.29032258] \n",
      "\n"
     ]
    }
   ],
   "source": [
    "import numpy as np;\n",
    "## output y is >=1 dimentional\n",
    "def cond_coef(Sigma_YX,Sigma_XX):\n",
    "    return Sigma_YX @ np.linalg.inv(Sigma_XX)\n",
    "\n",
    "def cond_intcpt(Sigma_YX,Sigma_XX,mu_Y,mu_X):\n",
    "    cond_coef=Sigma_YX @ np.linalg.inv(Sigma_XX)\n",
    "    return mu_Y-cond_coef @ mu_X\n",
    "\n",
    "def cond_var(Sigma_YX,Sigma_XX,Sigma_YY):\n",
    "    return Sigma_YY-Sigma_YX @ np.linalg.inv(Sigma_XX)@ Sigma_YX.T\n",
    "\n",
    "def mu_Y_given_X_at_x(Sigma_YX,Sigma_XX,mu_Y,mu_X,x):\n",
    "    cond_coef=Sigma_YX @ np.linalg.inv(Sigma_XX)\n",
    "    cond_intcpt=mu_Y-cond_coef @ mu_X\n",
    "    return cond_coef @ x + cond_intcpt\n",
    "\n",
    "## \n",
    "def get_mean_cov(mu,Sigma,dim_Y):\n",
    "    mu.reshape(-1,1)\n",
    "    mu_Y=mu[:dim_Y]\n",
    "    mu_X=mu[dim_Y:]\n",
    "    Sigma_YY=Sigma[:dim_Y,:dim_Y]\n",
    "    Sigma_YX=Sigma[:dim_Y,dim_Y:]\n",
    "    Sigma_XY=Sigma[dim_Y:,:dim_Y]\n",
    "    Sigma_XX=Sigma[dim_Y:,dim_Y:]\n",
    "    \n",
    "    return mu_X,mu_Y,Sigma_XX,Sigma_XY,Sigma_YX,Sigma_YY\n",
    "\n",
    "\n",
    "########################## Input #####################################\n",
    "dim_joint = 4\n",
    "useCase_mean = np.array([1,2,3,4])\n",
    "useCase_cov = np.array([6,2,1,4,2,6,3,1,1,3,5,2,4,1,2,7]).reshape(dim_joint,dim_joint)\n",
    "dim_Y = 2\n",
    "x = np.array([0,0])\n",
    "######################################################################\n",
    "\n",
    "mu_X,mu_Y,Sigma_XX,Sigma_XY,Sigma_YX,Sigma_YY = get_mean_cov(useCase_mean,useCase_cov,dim_Y)\n",
    "\n",
    "cond_intcpt = cond_intcpt(Sigma_YX,Sigma_XX,mu_Y,mu_X)\n",
    "cond_coef = cond_coef(Sigma_YX,Sigma_XX)\n",
    "cond_var = cond_var(Sigma_YX,Sigma_XX,Sigma_YY)\n",
    "cond_std = cond_var**0.5\n",
    "mu_Y_given_X_at_x = mu_Y_given_X_at_x(Sigma_YX,Sigma_XX,mu_Y,mu_X,x)\n",
    "\n",
    "print(\"Conditional Intercept:\", cond_intcpt ,\"\\n\" )\n",
    "print(\"Conditional Coefficients:\", cond_coef ,\"\\n\")\n",
    "print(\"Conditional Variance / Residual MSE:\", cond_var,\"\\n\" )\n",
    "print(\"Conditional Residual RootMSE(RMSE):\", cond_std,\"\\n\" )\n",
    "print(\"Conditional Mean at x=\",x,\"is:\",mu_Y_given_X_at_x,\"\\n\")"
   ]
  },
  {
   "cell_type": "code",
   "execution_count": null,
   "id": "54b95cf6",
   "metadata": {},
   "outputs": [],
   "source": []
  }
 ],
 "metadata": {
  "kernelspec": {
   "display_name": "Python 3 (ipykernel)",
   "language": "python",
   "name": "python3"
  },
  "language_info": {
   "codemirror_mode": {
    "name": "ipython",
    "version": 3
   },
   "file_extension": ".py",
   "mimetype": "text/x-python",
   "name": "python",
   "nbconvert_exporter": "python",
   "pygments_lexer": "ipython3",
   "version": "3.11.6"
  }
 },
 "nbformat": 4,
 "nbformat_minor": 5
}
